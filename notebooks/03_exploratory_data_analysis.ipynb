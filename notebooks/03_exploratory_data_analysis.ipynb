{
 "cells": [
  {
   "cell_type": "markdown",
   "metadata": {},
   "source": [
    "# Solar Energy Forecasting\n",
    "\n",
    "## Introduction\n",
    "\n",
    "Some exploratory data analysis to better understand the data\n",
    "\n",
    "## Historical Data (Radiation, Air temperature, Wind speed)\n",
    "Weather data for location: Freiburg im Breisgau  \n",
    "Using data from the year 2020 (because it is the most recent year there is data for on the website)  \n",
    "Get historical weather data from: https://joint-research-centre.ec.europa.eu/photovoltaic-geographical-information-system-pvgis/pvgis-tools/hourly-radiation_en\n",
    "\n",
    "## Historical Data (Solar energy production)\n",
    "Energy data for location: Transnet (Baden-Württemberg)  \n",
    "Using data from the year 2020  \n",
    "Get historical energy production data from: https://www.smard.de (https://www.smard.de/en/downloadcenter/download-market-data/?downloadAttributes=%7B%22selectedCategory%22:1,%22selectedSubCategory%22:1,%22selectedRegion%22:%22TransnetBW%22,%22selectedFileType%22:%22CSV%22,%22from%22:1577833200000,%22to%22:1609541999999%7D)\n",
    "\n",
    "## Weather forecast data (Radiation, Air temperature, Wind speed)\n",
    "Get weather forecast from: https://www.weatherapi.com/my/ 14 days is for free  \n",
    "Do prediction, then we need to wait and download again from smard.de and we can then compare our prediction to the truth\n",
    "\n"
   ]
  },
  {
   "cell_type": "code",
   "execution_count": 66,
   "metadata": {},
   "outputs": [],
   "source": [
    "import pandas as pd\n",
    "import pickle\n",
    "\n",
    "# use historical radiation data + generated energy data to later on train the model\n",
    "\n",
    "# Load historical data\n",
    "with open(\"../data/raw data/historical_solar_data.pkl\", \"rb\") as file:\n",
    "    X = pickle.load(file)\n",
    "#print(\"X\\n\", X)\n",
    "\n",
    "y = pd.read_csv(\"../data/raw data/Actual_generation_2020.csv\", delimiter=\";\", dtype=str)\n",
    "#print(\"y\\n\", y)"
   ]
  },
  {
   "cell_type": "code",
   "execution_count": 67,
   "metadata": {},
   "outputs": [
    {
     "name": "stdout",
     "output_type": "stream",
     "text": [
      "Y\n",
      "                     time  energy_generated\n",
      "0    2020-01-01 00:00:00               0.0\n",
      "1    2020-01-01 01:00:00               0.0\n",
      "2    2020-01-01 02:00:00               0.0\n",
      "3    2020-01-01 03:00:00               0.0\n",
      "4    2020-01-01 04:00:00               0.0\n",
      "...                  ...               ...\n",
      "8779 2020-12-31 19:00:00               0.0\n",
      "8780 2020-12-31 20:00:00               0.0\n",
      "8781 2020-12-31 21:00:00               0.0\n",
      "8782 2020-12-31 22:00:00               0.0\n",
      "8783 2020-12-31 23:00:00               0.0\n",
      "\n",
      "[8784 rows x 2 columns]\n",
      "X\n",
      "                     time  G(i)   T2m  WS10m\n",
      "0    2020-01-01 00:00:00   0.0 -1.09   2.28\n",
      "1    2020-01-01 01:00:00   0.0 -1.10   2.07\n",
      "2    2020-01-01 02:00:00   0.0 -1.15   2.00\n",
      "3    2020-01-01 03:00:00   0.0 -1.37   2.00\n",
      "4    2020-01-01 04:00:00   0.0 -1.52   2.07\n",
      "...                  ...   ...   ...    ...\n",
      "8779 2020-12-31 19:00:00   0.0 -0.78   2.07\n",
      "8780 2020-12-31 20:00:00   0.0 -0.93   1.86\n",
      "8781 2020-12-31 21:00:00   0.0 -1.06   1.66\n",
      "8782 2020-12-31 22:00:00   0.0 -1.15   1.38\n",
      "8783 2020-12-31 23:00:00   0.0 -1.17   1.17\n",
      "\n",
      "[8784 rows x 4 columns]\n",
      "4452.75\n"
     ]
    }
   ],
   "source": [
    "y = y[[\"Start date\", \"Photovoltaics [MWh] Calculated resolutions\"]]\n",
    "y = y.iloc[:-24,:] # remove last 24 rows (1 day), in order to have the full year 2020\n",
    "# 8784 rows = 8760h + 24h (because 2020 was a leap year)\n",
    "y = y.rename(columns={\"Start date\": \"time\", \"Photovoltaics [MWh] Calculated resolutions\": \"energy_generated\"})\n",
    "y[\"time\"] = pd.to_datetime(y[\"time\"], format=\"%b %d, %Y %I:%M %p\")\n",
    "y[\"energy_generated\"] = pd.to_numeric(y[\"energy_generated\"].str.replace(\",\", \"\"), errors=\"coerce\")\n",
    "print(\"Y\\n\", y)\n",
    "\n",
    "# shifting the index (time) of X by 10 minutes to match the index of y\n",
    "X[\"time\"] = pd.to_datetime(X[\"time\"], format=\"%Y%m%d:%H%M\")\n",
    "X[\"time\"] = X[\"time\"] - pd.Timedelta(minutes=10)\n",
    "print(\"X\\n\", X)\n",
    "\n",
    "# take care of the big numbers XXXXX.XX that come from the wrongly interpreted dates in the energy_generated column from the original csv\n",
    "# Obviously this is not clean, it could have been other numbers that got wrongly interpreted, but hey, it's a first step\n",
    "# TOOK CARE OF with dtype=str in read_csv\n",
    "\n",
    "# Obviously just shifting the data by 10 minutes is not the best way to do it, but it's a first step\n",
    "\n",
    "print(max(y[\"energy_generated\"]))\n"
   ]
  },
  {
   "cell_type": "code",
   "execution_count": 68,
   "metadata": {},
   "outputs": [
    {
     "name": "stdout",
     "output_type": "stream",
     "text": [
      "time     datetime64[ns]\n",
      "G(i)            float64\n",
      "T2m             float64\n",
      "WS10m           float64\n",
      "dtype: object\n",
      "X describe:                       time         G(i)          T2m        WS10m\n",
      "count                 8784  8784.000000  8784.000000  8784.000000\n",
      "mean   2020-07-01 23:30:00   145.073357     9.428526     2.023866\n",
      "min    2020-01-01 00:00:00     0.000000   -10.250000     0.000000\n",
      "25%    2020-04-01 11:45:00     0.000000     3.360000     1.310000\n",
      "50%    2020-07-01 23:30:00     0.000000     8.940000     1.720000\n",
      "75%    2020-10-01 11:15:00   200.257500    15.130000     2.480000\n",
      "max    2020-12-31 23:00:00   956.010000    31.790000     9.030000\n",
      "std                    NaN   232.219707     7.550996     1.161367\n"
     ]
    }
   ],
   "source": [
    "print(X.dtypes)\n",
    "print(\"X describe:\", X.describe())"
   ]
  },
  {
   "cell_type": "code",
   "execution_count": 69,
   "metadata": {},
   "outputs": [
    {
     "name": "stdout",
     "output_type": "stream",
     "text": [
      "time                datetime64[ns]\n",
      "energy_generated           float64\n",
      "dtype: object\n",
      "4452.75\n",
      "Y describe:                                 time  energy_generated\n",
      "count                           8784       8784.000000\n",
      "mean   2020-07-02 00:04:25.573770496        709.986766\n",
      "min              2020-01-01 00:00:00          0.000000\n",
      "25%              2020-04-01 12:45:00          0.000000\n",
      "50%              2020-07-02 00:30:00         15.500000\n",
      "75%              2020-10-01 12:15:00       1077.312500\n",
      "max              2020-12-31 23:00:00       4452.750000\n",
      "std                              NaN       1105.954943\n"
     ]
    }
   ],
   "source": [
    "print(y.dtypes)\n",
    "print(max(y[\"energy_generated\"]))\n",
    "print(\"Y describe:\", y.describe())"
   ]
  },
  {
   "cell_type": "code",
   "execution_count": null,
   "metadata": {},
   "outputs": [],
   "source": []
  }
 ],
 "metadata": {
  "kernelspec": {
   "display_name": "venv",
   "language": "python",
   "name": "python3"
  },
  "language_info": {
   "codemirror_mode": {
    "name": "ipython",
    "version": 3
   },
   "file_extension": ".py",
   "mimetype": "text/x-python",
   "name": "python",
   "nbconvert_exporter": "python",
   "pygments_lexer": "ipython3",
   "version": "3.13.2"
  }
 },
 "nbformat": 4,
 "nbformat_minor": 2
}
