{
 "cells": [
  {
   "cell_type": "markdown",
   "metadata": {},
   "source": [
    "# Solar Energy Forecasting\n",
    "\n",
    "## Introduction\n",
    "\n",
    "Some exploratory data analysis to better understand the data\n",
    "\n",
    "## Historical Data (Radiation, Air temperature, Wind speed)\n",
    "Weather data for location: Freiburg im Breisgau  \n",
    "Using data from the year 2020 (because it is the most recent year there is data for on the website)  \n",
    "Get historical weather data from: https://joint-research-centre.ec.europa.eu/photovoltaic-geographical-information-system-pvgis/pvgis-tools/hourly-radiation_en\n",
    "\n",
    "## Historical Data (Solar energy production)\n",
    "Energy data for location: Transnet (Baden-Württemberg)  \n",
    "Using data from the year 2020  \n",
    "Get historical energy production data from: https://www.smard.de (https://www.smard.de/en/downloadcenter/download-market-data/?downloadAttributes=%7B%22selectedCategory%22:1,%22selectedSubCategory%22:1,%22selectedRegion%22:%22TransnetBW%22,%22selectedFileType%22:%22CSV%22,%22from%22:1577833200000,%22to%22:1609541999999%7D)\n",
    "\n",
    "## Weather forecast data (Radiation, Air temperature, Wind speed)\n",
    "Get weather forecast from: https://www.weatherapi.com/my/ 14 days is for free  \n",
    "Do prediction, then we need to wait and download again from smard.de and we can then compare our prediction to the truth\n",
    "\n"
   ]
  },
  {
   "cell_type": "code",
   "execution_count": 3,
   "metadata": {},
   "outputs": [
    {
     "name": "stdout",
     "output_type": "stream",
     "text": [
      "            time  G(i)  H_sun   T2m  WS10m\n",
      "0  20050101:0011   0.0    0.0  6.83   3.59\n",
      "1  20050101:0111   0.0    0.0  6.80   3.45\n",
      "2  20050101:0211   0.0    0.0  6.79   3.24\n",
      "3  20050101:0311   0.0    0.0  6.44   2.83\n",
      "4  20050101:0411   0.0    0.0  6.26   2.62\n",
      "               G(i)         H_sun           T2m         WS10m\n",
      "count  17520.000000  17520.000000  17520.000000  17520.000000\n",
      "mean     126.499125     12.472856      9.985207      2.917154\n",
      "std      206.174483     17.108247      8.817461      1.315834\n",
      "min        0.000000     -0.610000    -21.620000      0.000000\n",
      "25%        0.000000      0.000000      3.040000      2.000000\n",
      "50%        0.000000      0.000000     10.510000      2.690000\n",
      "75%      178.002500     22.010000     16.480000      3.660000\n",
      "max      912.010000     60.910000     35.340000      9.520000\n"
     ]
    }
   ],
   "source": [
    "import pandas as pd\n",
    "import pickle\n",
    "\n",
    "# Load the pickle file\n",
    "with open(\"solar_data.pkl\", \"rb\") as file:\n",
    "    df = pickle.load(file)\n",
    "\n",
    "print(df.head())\n",
    "print(df.describe())"
   ]
  },
  {
   "cell_type": "code",
   "execution_count": null,
   "metadata": {},
   "outputs": [],
   "source": []
  }
 ],
 "metadata": {
  "kernelspec": {
   "display_name": "venv",
   "language": "python",
   "name": "python3"
  },
  "language_info": {
   "codemirror_mode": {
    "name": "ipython",
    "version": 3
   },
   "file_extension": ".py",
   "mimetype": "text/x-python",
   "name": "python",
   "nbconvert_exporter": "python",
   "pygments_lexer": "ipython3",
   "version": "3.13.2"
  }
 },
 "nbformat": 4,
 "nbformat_minor": 2
}
